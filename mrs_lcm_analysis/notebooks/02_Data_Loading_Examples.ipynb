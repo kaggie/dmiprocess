{
 "cells": [
  {
   "cell_type": "markdown",
   "metadata": {},
   "source": [
    "# Demonstrating MRS Data Loaders\n",
    "\n",
    "This notebook showcases how to load MRS data from different file formats using the `lcm_library.io` module. We will demonstrate loading data from NumPy's `.npy` and `.npz` formats, MATLAB's `.mat` format, and DICOM's `.dcm` format (using a simulated minimal DICOM file). We will also conceptually cover loading Siemens TWIX and Philips SDAT files using the `suspect` library."
   ]
  },
  {
   "cell_type": "code",
   "execution_count": null,
   "metadata": {},
   "outputs": [],
   "source": [
    "import numpy as np\n",
    "import scipy.io\n",
    "import matplotlib.pyplot as plt\n",
    "import os\n",
    "import warnings\n",
    "\n",
    "# Setup sys.path to find the lcm_library\n",
    "import sys\n",
    "module_path = os.path.abspath(os.path.join('..'))\n",
    "if module_path not in sys.path:\n",
    "    sys.path.append(module_path)\n",
    "    print(f\"Added {module_path} to sys.path\")\n",
    "else:\n",
    "    print(f\"{module_path} already in sys.path\")\n",
    "\n",
    "from lcm_library.io import load_mrs # Main function we are demonstrating\n",
    "from lcm_library.data_loading import MRSData # For type checking and reference\n",
    "from lcm_library.io.suspect_loaders import SUSPECT_AVAILABLE # To check if suspect is installed\n",
    "\n",
    "# For DICOM creation (if successful)\n",
    "try:\n",
    "    import pydicom\n",
    "    from pydicom.dataset import Dataset, FileMetaDataset\n",
    "    from pydicom.uid import generate_uid, ExplicitVRLittleEndian\n",
    "    # from pydicom.filewriter import write_file # Not used directly, pydicom.dcmwrite is preferred\n",
    "    DICOM_AVAILABLE = True\n",
    "except ImportError:\n",
    "    DICOM_AVAILABLE = False\n",
    "    print(\"pydicom library not found. DICOM creation/loading demonstration will be conceptual.\")\n",
    "\n",
    "%matplotlib inline\n",
    "\n",
    "# Create a temporary directory for data files\n",
    "TEMP_DATA_DIR = \"temp_mrs_data_notebook_02\"\n",
    "if not os.path.exists(TEMP_DATA_DIR):\n",
    "    os.makedirs(TEMP_DATA_DIR)\n",
    "print(f\"Temporary data will be stored in: {os.path.abspath(TEMP_DATA_DIR)}\")"
   ]
  },
  {
   "cell_type": "markdown",
   "metadata": {},
   "source": [
    "## Helper Function to Simulate MRS Data"
   ]
  },
  {
   "cell_type": "code",
   "execution_count": null,
   "metadata": {},
   "outputs": [],
   "source": [
    "def simulate_fid_and_metadata(num_points=1024, sw_hz=2000.0, f0_mhz=123.25, \n",
    "                                te_ms=30.0, tr_ms=2000.0, add_noise=True):\n",
    "    \"\"\"Generates a simple FID and corresponding metadata dictionary.\"\"\"\n",
    "    time_axis = np.arange(num_points) / sw_hz\n",
    "    \n",
    "    # Simulate a few decaying sinusoids (simplified metabolites)\n",
    "    naa_freq_hz = (2.01 - 4.7) * f0_mhz \n",
    "    naa_fid = 10 * np.exp(1j * 2 * np.pi * naa_freq_hz * time_axis) * np.exp(-time_axis / 0.08)\n",
    "    cr_freq_hz = (3.03 - 4.7) * f0_mhz\n",
    "    cr_fid = 8 * np.exp(1j * 2 * np.pi * cr_freq_hz * time_axis) * np.exp(-time_axis / 0.07)\n",
    "    cho_freq_hz = (3.22 - 4.7) * f0_mhz\n",
    "    cho_fid = 5 * np.exp(1j * 2 * np.pi * cho_freq_hz * time_axis) * np.exp(-time_axis / 0.07)\n",
    "    fid = naa_fid + cr_fid + cho_fid\n",
    "    if add_noise:\n",
    "        noise_level = 0.5\n",
    "        real_noise = np.random.normal(0, noise_level, num_points)\n",
    "        imag_noise = np.random.normal(0, noise_level, num_points)\n",
    "        fid += (real_noise + 1j * imag_noise)\n",
    "    metadata = {\n",
    "        'sw_hz': sw_hz,\n",
    "        'f0_mhz': f0_mhz,\n",
    "        'te_ms': te_ms,\n",
    "        'tr_ms': tr_ms,\n",
    "        'num_points': num_points\n",
    "    }\n",
    "    return fid.astype(np.complex64), metadata"
   ]
  },
  {
   "cell_type": "markdown",
   "metadata": {},
   "source": [
    "### 1. Loading NumPy formats (`.npy`, `.npz`)"
   ]
  },
  {
   "cell_type": "markdown",
   "metadata": {},
   "source": [
    "#### 1.1. Loading from `.npy` file"
   ]
  },
  {
   "cell_type": "code",
   "execution_count": null,
   "metadata": {},
   "outputs": [],
   "source": [
    "sim_fid_npy, sim_meta_npy = simulate_fid_and_metadata()\n",
    "npy_filepath = os.path.join(TEMP_DATA_DIR, \"simulated_fid.npy\")\n",
    "np.save(npy_filepath, sim_fid_npy)\n",
    "print(f\"Saved simulated FID to: {npy_filepath}\")\n",
    "\n",
    "try:\n",
    "    loaded_mrs_data_npy = load_mrs(npy_filepath)\n",
    "    print(\"\\nLoaded MRSData from .npy:\")\n",
    "    print(loaded_mrs_data_npy)\n",
    "    print(f\"  Sampling Frequency: {loaded_mrs_data_npy.sampling_frequency}\") # Expected: None\n",
    "    print(f\"  Central Frequency: {loaded_mrs_data_npy.central_frequency}\") # Expected: None\n",
    "    print(f\"  Metadata: {loaded_mrs_data_npy.metadata}\")\n",
    "    print(\"\\nPlotting loaded .npy data (FID and Spectrum with default/missing freq info):\")\n",
    "    loaded_mrs_data_npy.plot() \n",
    "except Exception as e:\n",
    "    print(f\"Error loading .npy: {e}\")\n",
    "finally:\n",
    "    if os.path.exists(npy_filepath):\n",
    "        os.remove(npy_filepath)\n",
    "        print(f\"\\nRemoved temporary file: {npy_filepath}\")"
   ]
  },
  {
   "cell_type": "markdown",
   "metadata": {},
   "source": [
    "As expected, loading from `.npy` results in `sampling_frequency` and `central_frequency` being `None` because this format only stores the raw array data. These would need to be manually set for further processing that requires them (like PPM axis conversion)."
   ]
  },
  {
   "cell_type": "markdown",
   "metadata": {},
   "source": [
    "#### 1.2. Loading from `.npz` file"
   ]
  },
  {
   "cell_type": "code",
   "execution_count": null,
   "metadata": {},
   "outputs": [],
   "source": [
    "sim_fid_npz, sim_meta_npz = simulate_fid_and_metadata()\n",
    "npz_filepath = os.path.join(TEMP_DATA_DIR, \"simulated_data.npz\")\n",
    "\n",
    "np.savez(npz_filepath, \n",
    "         fid=sim_fid_npz, \n",
    "         sw_hz=sim_meta_npz['sw_hz'], \n",
    "         f0_mhz=sim_meta_npz['f0_mhz'], \n",
    "         te_ms=sim_meta_npz['te_ms'], \n",
    "         tr_ms=sim_meta_npz['tr_ms'],\n",
    "         other_info=\"Example additional data from NPZ\")\n",
    "print(f\"Saved simulated data and metadata to: {npz_filepath}\")\n",
    "\n",
    "try:\n",
    "    loaded_mrs_data_npz = load_mrs(npz_filepath)\n",
    "    print(\"\\nLoaded MRSData from .npz:\")\n",
    "    print(loaded_mrs_data_npz)\n",
    "    print(f\"  Sampling Frequency: {loaded_mrs_data_npz.sampling_frequency} Hz\")\n",
    "    print(f\"  Central Frequency: {loaded_mrs_data_npz.central_frequency} MHz\")\n",
    "    print(f\"  TE: {loaded_mrs_data_npz.metadata.get('te_ms')} ms\")\n",
    "    print(f\"  TR: {loaded_mrs_data_npz.metadata.get('tr_ms')} ms\")\n",
    "    print(f\"  Other Info: {loaded_mrs_data_npz.metadata.get('other_info')}\")\n",
    "    print(\"\\nPlotting loaded .npz data (FID and Spectrum with ppm scale):\")\n",
    "    loaded_mrs_data_npz.plot(unit='ppm')\n",
    "except Exception as e:\n",
    "    print(f\"Error loading .npz: {e}\")\n",
    "finally:\n",
    "    if os.path.exists(npz_filepath):\n",
    "        os.remove(npz_filepath)\n",
    "        print(f\"\\nRemoved temporary file: {npz_filepath}\")"
   ]
  },
  {
   "cell_type": "markdown",
   "metadata": {},
   "source": [
    "### 2. Loading MATLAB format (`.mat`)"
   ]
  },
  {
   "cell_type": "code",
   "execution_count": null,
   "metadata": {},
   "outputs": [],
   "source": [
    "sim_fid_mat, sim_meta_mat = simulate_fid_and_metadata()\n",
    "mat_filepath = os.path.join(TEMP_DATA_DIR, \"simulated_data.mat\")\n",
    "mat_dict = {\n",
    "    'fid': sim_fid_mat, \n",
    "    'sw_hz': float(sim_meta_mat['sw_hz']),\n",
    "    'f0_mhz': float(sim_meta_mat['f0_mhz']),\n",
    "    'te_ms': float(sim_meta_mat['te_ms']),\n",
    "    'tr_ms': float(sim_meta_mat['tr_ms']),\n",
    "    'description': 'Simulated MRS data for MATLAB loader test'\n",
    "}\n",
    "scipy.io.savemat(mat_filepath, mat_dict)\n",
    "print(f\"Saved simulated data and metadata to: {mat_filepath}\")\n",
    "\n",
    "try:\n",
    "    loaded_mrs_data_mat = load_mrs(mat_filepath)\n",
    "    print(\"\\nLoaded MRSData from .mat:\")\n",
    "    print(loaded_mrs_data_mat)\n",
    "    print(f\"  Sampling Frequency: {loaded_mrs_data_mat.sampling_frequency} Hz\")\n",
    "    print(f\"  Central Frequency: {loaded_mrs_data_mat.central_frequency} MHz\")\n",
    "    print(f\"  TE: {loaded_mrs_data_mat.metadata.get('te_ms')} ms\")\n",
    "    print(f\"  TR: {loaded_mrs_data_mat.metadata.get('tr_ms')} ms\")\n",
    "    print(f\"  Description: {loaded_mrs_data_mat.metadata.get('description')}\")\n",
    "    print(\"\\nPlotting loaded .mat data (FID and Spectrum with ppm scale):\")\n",
    "    loaded_mrs_data_mat.plot(unit='ppm')\n",
    "except Exception as e:\n",
    "    print(f\"Error loading .mat: {e}\")\n",
    "finally:\n",
    "    if os.path.exists(mat_filepath):\n",
    "        os.remove(mat_filepath)\n",
    "        print(f\"\\nRemoved temporary file: {mat_filepath}\")"
   ]
  },
  {
   "cell_type": "markdown",
   "metadata": {},
   "source": [
    "### 3. Loading DICOM MRS format (`.dcm`)"
   ]
  },
  {
   "cell_type": "code",
   "execution_count": null,
   "metadata": {},
   "outputs": [],
   "source": [
    "dcm_filepath = os.path.join(TEMP_DATA_DIR, \"simulated_mrs.dcm\")\n",
    "\n",
    "if DICOM_AVAILABLE:\n",
    "    print(\"Attempting to create and load a minimal DICOM MRS file...\")\n",
    "    file_meta = pydicom.dataset.FileMetaDataset()\n",
    "    file_meta.MediaStorageSOPClassUID = '1.2.840.10008.5.1.4.1.1.4.2'  # MR Spectroscopy Storage\n",
    "    file_meta.MediaStorageSOPInstanceUID = pydicom.uid.generate_uid()\n",
    "    file_meta.ImplementationClassUID = pydicom.uid.generate_uid()\n",
    "    file_meta.TransferSyntaxUID = pydicom.uid.ExplicitVRLittleEndian\n",
    "    ds = pydicom.dataset.Dataset()\n",
    "    ds.file_meta = file_meta\n",
    "    ds.SOPClassUID = file_meta.MediaStorageSOPClassUID\n",
    "    ds.SOPInstanceUID = file_meta.MediaStorageSOPInstanceUID\n",
    "    ds.PatientName = \"Test^Patient_DICOM\"\n",
    "    ds.PatientID = \"DICOM123\"\n",
    "    ds.StudyDate = \"20230201\"\n",
    "    ds.SeriesDescription = \"Simulated DICOM MRS\"\n",
    "    ds.Modality = \"MR\"\n",
    "    ds.Manufacturer = \"LCM Library Sim\"\n",
    "\n",
    "    num_fid_points_dcm = 128 \n",
    "    sim_fid_dcm, sim_meta_dcm = simulate_fid_and_metadata(num_points=num_fid_points_dcm, sw_hz=4500.0, f0_mhz=127.8, te_ms=20.0, tr_ms=1500.0)\n",
    "\n",
    "    ds.TransmitterFrequency = str(sim_meta_dcm['f0_mhz'])\n",
    "    ds.SpectralWidth = str(sim_meta_dcm['sw_hz'])\n",
    "    ds.SpectroscopyAcquisitionDataColumns = num_fid_points_dcm\n",
    "    ds.EffectiveEchoTime = str(sim_meta_dcm['te_ms'])\n",
    "    ds.RepetitionTime = str(sim_meta_dcm['tr_ms'])\n",
    "    ds.DataPointRows = 1\n",
    "    ds.DataPointColumns = num_fid_points_dcm \n",
    "    ds.NumberOfFrames = 1\n",
    "    \n",
    "    # Basic image plane module attributes (often required by validators)\n",
    "    ds.PixelSpacing = [\"10\", \"10\"]\n",
    "    ds.ImageOrientationPatient = [\"1\", \"0\", \"0\", \"0\", \"1\", \"0\"]\n",
    "    ds.ImagePositionPatient = [\"0\", \"0\", \"0\"]\n",
    "    ds.SliceThickness = \"10\"\n",
    "    ds.PixelRepresentation = 0\n",
    "    ds.SamplesPerPixel = 1\n",
    "    ds.PhotometricInterpretation = \"MONOCHROME2\"\n",
    "    ds.Rows = 1 # Minimal image attributes\n",
    "    ds.Columns = 1\n",
    "    ds.BitsAllocated = 16\n",
    "    ds.BitsStored = 12\n",
    "    ds.HighBit = 11\n",
    "\n",
    "    fid_float32 = np.zeros(num_fid_points_dcm * 2, dtype=np.float32)\n",
    "    fid_float32[0::2] = sim_fid_dcm.real\n",
    "    fid_float32[1::2] = sim_fid_dcm.imag\n",
    "    ds.SpectroscopyData = fid_float32.tobytes()\n",
    "    ds.is_little_endian = True\n",
    "    ds.is_implicit_VR = False\n",
    "\n",
    "    try:\n",
    "        pydicom.dcmwrite(dcm_filepath, ds, write_like_original=False)\n",
    "        print(f\"Saved simulated DICOM MRS to: {dcm_filepath}\")\n",
    "        loaded_mrs_data_dcm = load_mrs(dcm_filepath)\n",
    "        print(\"\\nLoaded MRSData from .dcm:\")\n",
    "        print(loaded_mrs_data_dcm)\n",
    "        print(f\"  Sampling Frequency: {loaded_mrs_data_dcm.sampling_frequency} Hz\")\n",
    "        print(f\"  Central Frequency: {loaded_mrs_data_dcm.central_frequency} MHz\")\n",
    "        print(f\"  TE: {loaded_mrs_data_dcm.metadata.get('te_ms')} ms\")\n",
    "        print(f\"  Patient Name: {loaded_mrs_data_dcm.metadata.get('patient_name')}\")\n",
    "        print(\"\\nPlotting loaded .dcm data (FID and Spectrum with ppm scale):\")\n",
    "        loaded_mrs_data_dcm.plot(unit='ppm')\n",
    "    except Exception as e:\n",
    "        print(f\"Error during DICOM creation/loading/plotting: {e}\")\n",
    "        print(\"DICOM demonstration might be incomplete or failed.\")\n",
    "    finally:\n",
    "        if os.path.exists(dcm_filepath):\n",
    "            os.remove(dcm_filepath)\n",
    "            print(f\"\\nRemoved temporary file: {dcm_filepath}\")\n",
    "else:\n",
    "    print(\"Skipping DICOM creation and loading example as pydicom is not available.\")"
   ]
  },
  {
   "cell_type": "markdown",
   "metadata": {},
   "source": [
    "### 4. Loading Suspect-Compatible Formats (Conceptual)\n",
    "\n",
    "The `SuspectSiemensTwixLoader` and `SuspectPhilipsSdatLoader` use the `suspect` library to read Siemens `.dat` (TWIX) and Philips `.sdat`/`.spar` files respectively. If `suspect` is not installed, these loaders will raise an `ImportError` upon use."
   ]
  },
  {
   "cell_type": "code",
   "execution_count": null,
   "metadata": {},
   "outputs": [],
   "source": [
    "if SUSPECT_AVAILABLE:\n",
    "    print(\"Suspect library is available. Conceptual loading examples for TWIX and SDAT:\")\n",
    "    \n",
    "    # Conceptual TWIX loading\n",
    "    print(\"\\n--- Conceptual TWIX (.dat) Loading ---\")\n",
    "    print(\"To test, replace 'path/to/your_twix_file.dat' with an actual file path.\")\n",
    "    print(\"try:\")\n",
    "    print(\"    # twix_data = load_mrs('path/to/your_twix_file.dat')\")\n",
    "    print(\"    # print(twix_data)\")\n",
    "    print(\"    # print(f\\\"Loaded FID shape: {twix_data.data_array.shape}\\\")\") # Corrected to twix_data.data_array.shape\n",
    "    print(\"    # print(f\\\"Sampling Frequency: {twix_data.sampling_frequency} Hz\\\")\")\n",
    "    print(\"    # print(f\\\"Central Frequency: {twix_data.central_frequency} MHz\\\")\")\n",
    "    print(\"    # print(f\\\"Echo Time: {twix_data.metadata.get('te_ms')} ms\\\")\") # Corrected to use metadata.get()\n",
    "    print(\"    # twix_data.plot(unit='ppm')\")\n",
    "    print(\"except FileNotFoundError:\")\n",
    "    print(\"    print('TWIX file not found. Please provide a valid path.')\")\n",
    "    print(\"except ImportError as e:\")\n",
    "    print(\"    print(f'ImportError: {e}. Please ensure \\'suspect\\' library is installed.')\")\n",
    "    print(\"except Exception as e:\")\n",
    "    print(\"    print(f'An error occurred: {e}')\")\n",
    "\n",
    "    # Conceptual SDAT loading\n",
    "    print(\"\\n--- Conceptual Philips SDAT (.sdat) Loading ---\")\n",
    "    print(\"To test, replace 'path/to/your_sdat_file.sdat' with an actual file path (ensure .spar is also present).\")\n",
    "    print(\"try:\")\n",
    "    print(\"    # sdat_data = load_mrs('path/to/your_sdat_file.sdat')\")\n",
    "    print(\"    # print(sdat_data)\")\n",
    "    print(\"    # print(f\\\"Loaded FID shape: {sdat_data.data_array.shape}\\\")\") # Corrected\n",
    "    print(\"    # print(f\\\"Sampling Frequency: {sdat_data.sampling_frequency} Hz\\\")\")\n",
    "    print(\"    # print(f\\\"Central Frequency: {sdat_data.central_frequency} MHz\\\")\")\n",
    "    print(\"    # print(f\\\"Echo Time: {sdat_data.metadata.get('te_ms')} ms\\\")\") # Corrected\n",
    "    print(\"    # sdat_data.plot(unit='ppm')\")\n",
    "    print(\"except FileNotFoundError:\")\n",
    "    print(\"    print('SDAT/.SPAR file not found. Please provide a valid path.')\")\n",
    "    print(\"except ImportError as e:\")\n",
    "    print(\"    print(f'ImportError: {e}. Please ensure \\'suspect\\' library is installed.')\")\n",
    "    print(\"except Exception as e:\")\n",
    "    print(\"    print(f'An error occurred: {e}')\")\n",
    "else:\n",
    "    print(\"Suspect library not found. Skipping conceptual TWIX and SDAT loading examples.\")\n",
    "    print(\"Install 'suspect' (e.g., 'pip install suspect') to enable these loaders.\")"
   ]
  },
  {
   "cell_type": "markdown",
   "metadata": {},
   "source": [
    "The `SuspectSiemensTwixLoader` attempts to extract a single FID from potentially multi-dimensional TWIX data by averaging 'average' dimensions and selecting the first element from 'coil', 'channel', or 'repetition' dimensions. It extracts key metadata like `sw`, `f0`, `te`, and `tr` from the `suspect` object.\n",
    "\n",
    "The `SuspectPhilipsSdatLoader` similarly extracts data and metadata from `.sdat`/`.spar` pairs via `suspect`."
   ]
  },
  {
   "cell_type": "markdown",
   "metadata": {},
   "source": [
    "## Cleanup Temporary Directory"
   ]
  },
  {
   "cell_type": "code",
   "execution_count": null,
   "metadata": {},
   "outputs": [],
   "source": [
    "try:\n",
    "    if os.path.exists(TEMP_DATA_DIR):\n",
    "        # Ensure all files are removed before trying to remove directory\n",
    "        # Check if directory is empty first\n",
    "        if not os.listdir(TEMP_DATA_DIR):\n",
    "            os.rmdir(TEMP_DATA_DIR)\n",
    "            print(f\"Successfully removed empty temporary directory: {TEMP_DATA_DIR}\")\n",
    "        else:\n",
    "            # This case should ideally be handled by removing files in previous cells\n",
    "            print(f\"Warning: Temporary directory {TEMP_DATA_DIR} is not empty. Manual cleanup might be needed.\") \n",
    "except OSError as e:\n",
    "    print(f\"Error removing temporary directory {TEMP_DATA_DIR}: {e.strerror}\")"
   ]
  }
 ],
 "metadata": {
  "kernelspec": {
   "display_name": "Python 3",
   "language": "python",
   "name": "python3"
  },
  "language_info": {
   "codemirror_mode": {
    "name": "ipython",
    "version": 3
   },
   "file_extension": ".py",
   "mimetype": "text/x-python",
   "name": "python",
   "nbconvert_exporter": "python",
   "pygments_lexer": "ipython3",
   "version": "3.10.12" 
  }
 },
 "nbformat": 4,
 "nbformat_minor": 5
}

[end of mrs_lcm_analysis/notebooks/02_Data_Loading_Examples.ipynb]
