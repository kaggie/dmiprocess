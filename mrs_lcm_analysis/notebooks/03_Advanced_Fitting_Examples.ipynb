{
 "cells": [
  {
   "cell_type": "markdown",
   "metadata": {},
   "source": [
    "# Advanced MRS Fitting with Constraints using PyTorch\n",
    "\n",
    "This notebook demonstrates the use of the `AdvancedLinearCombinationModel` from the `lcm_library`. This model leverages PyTorch for fitting Magnetic Resonance Spectroscopy (MRS) data, allowing for the optimization of metabolite amplitudes, frequency shifts, and linewidth broadenings, all while applying specified constraints. It also supports simultaneous fitting of a polynomial baseline."
   ]
  },
  {
   "cell_type": "code",
   "execution_count": null,
   "metadata": {},
   "outputs": [],
   "source": [
    "import torch\n",
    "import numpy as np\n",
    "import matplotlib.pyplot as plt\n",
    "import os\n",
    "import sys\n",
    "import warnings # To manage warnings if needed\n",
    "\n",
    "# Setup sys.path to find the lcm_library\n",
    "module_path = os.path.abspath(os.path.join('..'))\n",
    "if module_path not in sys.path:\n",
    "    sys.path.append(module_path)\n",
    "    print(f\"Added {module_path} to sys.path\")\n",
    "else:\n",
    "    print(f\"{module_path} already in sys.path\")\n",
    "\n",
    "from lcm_library.advanced_model import AdvancedLinearCombinationModel\n",
    "\n",
    "%matplotlib inline\n",
    "\n",
    "device = 'cuda' if torch.cuda.is_available() else 'cpu'\n",
    "print(f\"Using device: {device}\")"
   ]
  },
  {
   "cell_type": "markdown",
   "metadata": {},
   "source": [
    "## 1. Data Simulation\n",
    "\n",
    "We will simulate MRS data including a few metabolites, a baseline, and noise. This allows us to have known ground truth values for amplitudes, shifts, and linewidths to compare against the model's fitting results."
   ]
  },
  {
   "cell_type": "markdown",
   "metadata": {},
   "source": [
    "### 1.1. Define Simulation Parameters"
   ]
  },
  {
   "cell_type": "code",
   "execution_count": null,
   "metadata": {},
   "outputs": [],
   "source": [
    "NUM_POINTS = 1024       # Number of points in the spectrum\n",
    "SW_HZ = 2000.0          # Spectral width in Hz\n",
    "F0_MHZ = 123.25         # Spectrometer frequency in MHz (for 3T Proton)\n",
    "DT_S = 1.0 / SW_HZ      # Dwell time in seconds\n",
    "\n",
    "METABOLITE_NAMES = ['MetA', 'MetB', 'MetC']\n",
    "NUM_METABOLITES = len(METABOLITE_NAMES)\n",
    "\n",
    "# True parameters for simulation (these are the 'ground truth' values)\n",
    "TRUE_AMPLITUDES = np.array([10.0, 8.0, 7.0])\n",
    "TRUE_SHIFTS_HZ = np.array([-1.5, 0.3, 1.2])  # Hz shift from basis spectrum position\n",
    "TRUE_LW_HZ_ADDITIONAL = np.array([1.2, 1.8, 0.8]) # Additional Lorentzian broadening in Hz\n",
    "TRUE_BASELINE_COEFFS = np.array([8.0, -3.0, 1.5]) # Coefficients for a 2nd degree polynomial\n",
    "\n",
    "print(f\"Dwell time (dt): {DT_S*1000:.2f} ms\")"
   ]
  },
  {
   "cell_type": "markdown",
   "metadata": {},
   "source": [
    "### 1.2. Simulate Ideal Basis Spectra\n",
    "\n",
    "These are the 'pure' metabolite spectra that the `AdvancedLinearCombinationModel` will use as input. We'll simulate them as simple Lorentzian peaks at distinct frequencies. These basis spectra are assumed to be perfectly known (no inherent shift or broadening beyond their defined lineshape here). The basis spectra should be complex and fftshifted for compatibility with the model."
   ]
  },
  {
   "cell_type": "code",
   "execution_count": null,
   "metadata": {},
   "outputs": [],
   "source": [
    "def create_lorentzian_peak_freq_domain(num_points, dt_s, peak_center_hz_offset, amplitude, lw_hz):\n",
    "    \"\"\"Creates a frequency-domain Lorentzian peak, fftshifted and complex.\"\"\"\n",
    "    time_axis = np.arange(0, num_points) * dt_s\n",
    "    fid = amplitude * np.exp(1j * 2 * np.pi * peak_center_hz_offset * time_axis) * np.exp(-time_axis * np.pi * lw_hz)\n",
    "    spectrum_shifted = np.fft.fftshift(np.fft.fft(fid))\n",
    "    return spectrum_shifted.astype(np.complex64)\n",
    "\n",
    "basis_spectra_list_true = []\n",
    "basis_peak_hz_offsets = [-250.0, -50.0, 100.0] \n",
    "basis_inherent_lw_hz = 1.5 \n",
    "\n",
    "for i in range(NUM_METABOLITES):\n",
    "    peak = create_lorentzian_peak_freq_domain(NUM_POINTS, DT_S, \n",
    "                                              basis_peak_hz_offsets[i], \n",
    "                                              1.0, \n",
    "                                              basis_inherent_lw_hz)\n",
    "    basis_spectra_list_true.append(peak)\n",
    "\n",
    "basis_spectra_tensor_true = torch.tensor(np.array(basis_spectra_list_true).T, dtype=torch.complex64).to(device)\n",
    "print(f\"Shape of true basis_spectra_tensor: {basis_spectra_tensor_true.shape}\")\n",
    "\n",
    "hz_axis_full_range = np.linspace(-SW_HZ / 2, SW_HZ / 2 - SW_HZ/NUM_POINTS, NUM_POINTS)\n",
    "ppm_axis_plot = (hz_axis_full_range / F0_MHZ)[::-1] \n",
    "\n",
    "plt.figure(figsize=(10,4))\n",
    "for i in range(NUM_METABOLITES):\n",
    "    plt.plot(ppm_axis_plot, basis_spectra_tensor_true[:, i].real.cpu(), label=METABOLITE_NAMES[i])\n",
    "plt.title(f\"Ideal Basis Spectra (Real Part, Shifted for Display)\")\n",
    "plt.xlabel(f\"Chemical Shift (ppm, relative to {F0_MHZ} MHz as 0 ppm)\")\n",
    "plt.ylabel(\"Intensity\")\n",
    "plt.xlim(max(ppm_axis_plot), min(ppm_axis_plot)) \n",
    "plt.legend()\n",
    "plt.grid(True, alpha=0.5)\n",
    "plt.show()"
   ]
  },
  {
   "cell_type": "markdown",
   "metadata": {},
   "source": [
    "### 1.3. Simulate Observed MRS Spectrum\n",
    "\n",
    "Now, we use the true parameters (amplitudes, shifts, additional linewidths) to generate the observed spectrum from the ideal basis spectra. This involves applying the transformations in the time domain. The final observed spectrum will be the real part, as is typically fitted."
   ]
  },
  {
   "cell_type": "code",
   "execution_count": null,
   "metadata": {},
   "outputs": [],
   "source": [
    "time_axis_torch = torch.arange(0, NUM_POINTS * DT_S, DT_S, device=device, dtype=torch.float32)\n",
    "final_metabolite_sum_complex = torch.zeros(NUM_POINTS, dtype=torch.complex64, device=device)\n",
    "\n",
    "basis_spectra_time_domain = torch.fft.ifft(torch.fft.ifftshift(basis_spectra_tensor_true, dim=0), dim=0)\n",
    "\n",
    "for i in range(NUM_METABOLITES):\n",
    "    basis_time = basis_spectra_time_domain[:, i]\n",
    "    decay = torch.exp(-time_axis_torch * np.pi * TRUE_LW_HZ_ADDITIONAL[i])\n",
    "    broadened_time = basis_time * decay\n",
    "    phase_ramp = torch.exp(1j * 2 * np.pi * TRUE_SHIFTS_HZ[i] * time_axis_torch)\n",
    "    shifted_broadened_time = broadened_time * phase_ramp\n",
    "    modified_freq_shifted = torch.fft.fftshift(torch.fft.fft(shifted_broadened_time), dim=0)\n",
    "    final_metabolite_sum_complex += TRUE_AMPLITUDES[i] * modified_freq_shifted\n",
    "\n",
    "norm_freq_axis_sim = torch.linspace(-1, 1, NUM_POINTS, device=device, dtype=torch.float32)\n",
    "baseline_signal = torch.zeros_like(norm_freq_axis_sim)\n",
    "for d_idx, coeff in enumerate(TRUE_BASELINE_COEFFS):\n",
    "    baseline_signal += coeff * (norm_freq_axis_sim ** d_idx)\n",
    "\n",
    "observed_spectrum_no_noise_complex = final_metabolite_sum_complex + baseline_signal \n",
    "observed_spectrum_no_noise_real = observed_spectrum_no_noise_complex.real\n",
    "\n",
    "noise_std = 1.5 \n",
    "noise = torch.normal(0, noise_std, size=(NUM_POINTS,), device=device, dtype=torch.float32)\n",
    "observed_spectrum_tensor = observed_spectrum_no_noise_real + noise\n",
    "\n",
    "print(f\"Shape of observed_spectrum_tensor: {observed_spectrum_tensor.shape}\")\n",
    "\n",
    "plt.figure(figsize=(10,4))\n",
    "plt.plot(ppm_axis_plot, observed_spectrum_tensor.cpu().numpy(), label=\"Simulated Observed Spectrum (with noise)\")\n",
    "plt.plot(ppm_axis_plot, observed_spectrum_no_noise_real.cpu().numpy(), label=\"Ground Truth (No Noise)\", linestyle='--')\n",
    "plt.title(\"Simulated Observed MRS Spectrum\")\n",
    "plt.xlabel(f\"Chemical Shift (ppm, relative to {F0_MHZ} MHz as 0 ppm)\")\n",
    "plt.ylabel(\"Intensity\")\n",
    "plt.xlim(max(ppm_axis_plot), min(ppm_axis_plot))\n",
    "plt.legend()\n",
    "plt.grid(True, alpha=0.5)\n",
    "plt.show()"
   ]
  },
  {
   "cell_type": "markdown",
   "metadata": {},
   "source": [
    "### 1.4. Define Fitting Mask\n",
    "\n",
    "We'll define a mask to fit only a specific region of the spectrum, e.g., between 0.2 and 4.2 ppm for this simulation."
   ]
  },
  {
   "cell_type": "code",
   "execution_count": null,
   "metadata": {},
   "outputs": [],
   "source": [
    "ppm_min_fit = 0.2 \n",
    "ppm_max_fit = 4.2 \n",
    "\n",
    "fitting_mask_numpy = (ppm_axis_plot <= ppm_max_fit) & (ppm_axis_plot >= ppm_min_fit)\n",
    "fitting_mask_tensor = torch.tensor(fitting_mask_numpy, dtype=torch.bool, device=device)\n",
    "\n",
    "print(f\"Fitting mask covers {fitting_mask_tensor.sum().item()} points between {ppm_min_fit:.2f} and {ppm_max_fit:.2f} ppm.\")\n",
    "\n",
    "plt.figure(figsize=(10,2))\n",
    "masked_spectrum_visualization = torch.zeros_like(observed_spectrum_tensor)\n",
    "masked_spectrum_visualization[fitting_mask_tensor] = observed_spectrum_tensor[fitting_mask_tensor]\n",
    "plt.plot(ppm_axis_plot, masked_spectrum_visualization.cpu().numpy(), label=\"Fitting Region Active\")\n",
    "plt.plot(ppm_axis_plot, observed_spectrum_tensor.cpu().numpy(), label=\"Observed Spectrum\", alpha=0.3)\n",
    "plt.title(\"Selected Fitting Region\")\n",
    "plt.xlabel(f\"Chemical Shift (ppm, relative to {F0_MHZ} MHz as 0 ppm)\")\n",
    "plt.yticks([])\n",
    "plt.xlim(max(ppm_axis_plot), min(ppm_axis_plot))\n",
    "plt.legend()\n",
    "plt.show()"
   ]
  },
  {
   "cell_type": "markdown",
   "metadata": {},
   "source": [
    "## 2. Instantiate `AdvancedLinearCombinationModel`"
   ]
  },
  {
   "cell_type": "code",
   "execution_count": null,
   "metadata": {},
   "outputs": [],
   "source": [
    "# Initial parameters for the model (these are the starting guesses for the fit)\n",
    "initial_params_guess = {\n",
    "    'MetA': {'amp': 7.0, 'shift_hz': 0.1, 'lw_hz': 1.0},\n",
    "    'MetB': {'amp': 6.0, 'shift_hz': -0.1, 'lw_hz': 1.5},\n",
    "    'MetC': {'amp': 5.0, 'shift_hz': 0.0, 'lw_hz': 0.8},\n",
    "    'baseline': {'coeff0': 0.0, 'coeff1': 0.0, 'coeff2': 0.0} \n",
    "}\n",
    "\n",
    "constraints_fit = {\n",
    "    'max_shift_hz': 2.0,  # Max allowable shift in Hz \n",
    "    'min_lw_hz': 0.3,     # Min allowable additional linewidth in Hz\n",
    "    'max_lw_hz': 5.0      # Max allowable additional linewidth in Hz\n",
    "}\n",
    "\n",
    "BASELINE_DEGREE_FIT = len(TRUE_BASELINE_COEFFS) - 1\n",
    "\n",
    "advanced_model = AdvancedLinearCombinationModel(\n",
    "    basis_spectra_tensor=basis_spectra_tensor_true, \n",
    "    metabolite_names=METABOLITE_NAMES,\n",
    "    observed_spectrum_tensor=observed_spectrum_tensor, \n",
    "    dt=DT_S,\n",
    "    fitting_mask=fitting_mask_tensor,\n",
    "    initial_params=initial_params_guess,\n",
    "    constraints=constraints_fit,\n",
    "    baseline_degree=BASELINE_DEGREE_FIT,\n",
    "    device=device\n",
    ")\n",
    "\n",
    "print(\"AdvancedLinearCombinationModel instantiated.\")\n",
    "print(f\"Model parameters will be optimized on device: {next(advanced_model.parameters()).device}\")"
   ]
  },
  {
   "cell_type": "markdown",
   "metadata": {},
   "source": [
    "## 3. Run the Fitting Process"
   ]
  },
  {
   "cell_type": "code",
   "execution_count": null,
   "metadata": {},
   "outputs": [],
   "source": [
    "advanced_model.fit(num_iterations=3000, lr=0.025, optim_type='adam', print_loss_every=250, weight_decay=1e-5)"
   ]
  },
  {
   "cell_type": "markdown",
   "metadata": {},
   "source": [
    "## 4. Display Results"
   ]
  },
  {
   "cell_type": "markdown",
   "metadata": {},
   "source": [
    "### 4.1. Compare True vs. Fitted Parameters"
   ]
  },
  {
   "cell_type": "code",
   "execution_count": null,
   "metadata": {},
   "outputs": [],
   "source": [
    "fitted_amps = advanced_model.get_fitted_amplitudes()\n",
    "fitted_shifts = advanced_model.get_fitted_shifts_hz()\n",
    "fitted_lws = advanced_model.get_fitted_linewidths_hz()\n",
    "fitted_bl_coeffs = advanced_model.get_fitted_baseline_coeffs()\n",
    "\n",
    "print(\"--- Parameter Comparison ---\")\n",
    "print(\"\\nMetabolite Amplitudes:\")\n",
    "for i, name in enumerate(METABOLITE_NAMES):\n",
    "    print(f\"  {name}: True = {TRUE_AMPLITUDES[i]:.2f}, Fitted = {fitted_amps.get(name, 0.0):.2f}\")\n",
    "\n",
    "print(\"\\nFrequency Shifts (Hz):\")\n",
    "for i, name in enumerate(METABOLITE_NAMES):\n",
    "    print(f\"  {name}: True = {TRUE_SHIFTS_HZ[i]:.2f}, Fitted = {fitted_shifts.get(name, 0.0):.2f}\")\n",
    "\n",
    "print(\"\\nAdditional Linewidths (Hz):\")\n",
    "for i, name in enumerate(METABOLITE_NAMES):\n",
    "    print(f\"  {name}: True Additional = {TRUE_LW_HZ_ADDITIONAL[i]:.2f}, Fitted Additional = {fitted_lws.get(name, 0.0):.2f}\")\n",
    "\n",
    "if fitted_bl_coeffs is not None:\n",
    "    print(\"\\nBaseline Coefficients:\")\n",
    "    for i in range(len(fitted_bl_coeffs)):\n",
    "        true_coeff_val = TRUE_BASELINE_COEFFS[i] if i < len(TRUE_BASELINE_COEFFS) else 'N/A (degree mismatch)'\n",
    "        print(f\"  Coeff {i}: True = {true_coeff_val if isinstance(true_coeff_val, str) else f'{true_coeff_val:.2f}'}, Fitted = {fitted_bl_coeffs[i]:.2f}\")"
   ]
  },
  {
   "cell_type": "markdown",
   "metadata": {},
   "source": [
    "### 4.2. Visualization of Fit"
   ]
  },
  {
   "cell_type": "code",
   "execution_count": null,
   "metadata": {},
   "outputs": [],
   "source": [
    "with torch.no_grad():\n",
    "    full_model_spectrum_tensor = advanced_model.get_full_model_spectrum(real_part=True)\n",
    "    \n",
    "    fitted_baseline_signal = torch.zeros(advanced_model.num_points, device=advanced_model.device)\n",
    "    if advanced_model.baseline_coeffs_raw is not None and hasattr(advanced_model, 'baseline_poly_terms'):\n",
    "        fitted_baseline_signal = advanced_model.baseline_poly_terms @ advanced_model.baseline_coeffs_raw.detach()\n",
    "        \n",
    "    fitted_params_t = advanced_model.get_transformed_parameters()\n",
    "    amps_t = fitted_params_t['amplitudes']\n",
    "    shifts_t = fitted_params_t['shifts_hz']\n",
    "    lws_t = fitted_params_t['linewidths_hz']\n",
    "    \n",
    "    basis_time_t = torch.fft.ifft(torch.fft.ifftshift(advanced_model.basis_spectra_freq_shifted, dim=0), dim=0)\n",
    "    time_axis_exp_t = advanced_model.time_axis.unsqueeze(1)\n",
    "    individual_metab_components_freq_list = []\n",
    "    for i in range(advanced_model.num_metabolites):\n",
    "        metab_t = basis_time_t[:, i]\n",
    "        decay_t = torch.exp(-time_axis_exp_t[:,0] * np.pi * lws_t[i])\n",
    "        phase_ramp_t = torch.exp(1j * 2 * np.pi * shifts_t[i] * time_axis_exp_t[:,0])\n",
    "        mod_metab_t = metab_t * decay_t * phase_ramp_t\n",
    "        mod_metab_f_shifted = torch.fft.fftshift(torch.fft.fft(mod_metab_t), dim=0)\n",
    "        individual_metab_components_freq_list.append(amps_t[i] * mod_metab_f_shifted.real) \n",
    "\n",
    "plt.figure(figsize=(12, 9))\n",
    "\n",
    "plt.subplot(3,1,1)\n",
    "plt.plot(ppm_axis_plot, observed_spectrum_tensor.cpu().numpy(), label=\"Observed Spectrum\", alpha=0.7)\n",
    "plt.plot(ppm_axis_plot, full_model_spectrum_tensor.cpu().numpy(), label=\"Full Model Fit\", color='red')\n",
    "plt.plot(ppm_axis_plot, fitted_baseline_signal.cpu().numpy(), label=\"Fitted Baseline\", color='green', linestyle=':')\n",
    "plt.title(\"Observed Spectrum vs. Full Model Fit and Baseline\")\n",
    "plt.xlabel(f\"Chemical Shift (ppm, relative to {F0_MHZ} MHz as 0 ppm)\")\n",
    "plt.ylabel(\"Intensity\")\n",
    "plt.xlim(max(ppm_axis_plot), min(ppm_axis_plot))\n",
    "plt.legend()\n",
    "plt.grid(True, alpha=0.4)\n",
    "\n",
    "residuals = observed_spectrum_tensor.cpu().numpy() - full_model_spectrum_tensor.cpu().numpy()\n",
    "plt.subplot(3,1,2)\n",
    "plt.plot(ppm_axis_plot, residuals, label=\"Residual (Observed - Model)\", color='blue')\n",
    "plt.title(\"Residuals\")\n",
    "plt.xlabel(f\"Chemical Shift (ppm, relative to {F0_MHZ} MHz as 0 ppm)\")\n",
    "plt.ylabel(\"Intensity\")\n",
    "plt.xlim(max(ppm_axis_plot), min(ppm_axis_plot))\n",
    "plt.legend()\n",
    "plt.grid(True, alpha=0.4)\n",
    "\n",
    "plt.subplot(3,1,3)\n",
    "data_minus_baseline = observed_spectrum_tensor.cpu().numpy() - fitted_baseline_signal.cpu().numpy()\n",
    "plt.plot(ppm_axis_plot, data_minus_baseline, label=\"Data - Est. Baseline\", color='lightgray', alpha=0.9)\n",
    "sum_fitted_metabs = torch.zeros_like(individual_metab_components_freq_list[0])\n",
    "for i, name in enumerate(METABOLITE_NAMES):\n",
    "    if i < len(individual_metab_components_freq_list):\n",
    "        component_to_plot = individual_metab_components_freq_list[i].cpu().numpy()\n",
    "        sum_fitted_metabs += individual_metab_components_freq_list[i]\n",
    "        plt.plot(ppm_axis_plot, component_to_plot, label=f\"Fitted {name}\", linestyle='--')\n",
    "plt.plot(ppm_axis_plot, sum_fitted_metabs.cpu().numpy(), label=\"Sum of Fitted Metabolites\", color='purple', linestyle='-')\n",
    "plt.title(\"Fitted Metabolite Components vs. Data (Baseline Subtracted)\")\n",
    "plt.xlabel(f\"Chemical Shift (ppm, relative to {F0_MHZ} MHz as 0 ppm)\")\n",
    "plt.ylabel(\"Intensity\")\n",
    "plt.xlim(max(ppm_axis_plot), min(ppm_axis_plot))\n",
    "plt.legend(fontsize='small')\n",
    "plt.grid(True, alpha=0.4)\n",
    "\n",
    "plt.tight_layout()\n",
    "plt.show()"
   ]
  },
  {
   "cell_type": "markdown",
   "metadata": {},
   "source": [
    "## 5. Experiment with Constraints (Brief Discussion)\n",
    "\n",
    "The `constraints` dictionary in `AdvancedLinearCombinationModel` allows users to define soft limits for frequency shifts and linewidths. \n",
    "\n",
    "- **Tighter Constraints**: If `max_shift_hz` was set to a very small value (e.g., 0.2 Hz) and a metabolite truly shifted by 1 Hz, the model would try to fit the shift but would be limited by the `tanh` transformation scaling. The parameter would effectively hit the boundary defined by the constraint. This can be useful to prevent overfitting to noise or spectral artifacts if prior knowledge suggests shifts should be small.\n",
    "- **Linewidth Constraints**: `min_lw_hz` prevents linewidths from becoming unrealistically small (e.g., zero or negative), and `max_lw_hz` prevents them from becoming excessively broad (which might erroneously absorb noise or other signals). These ensure that the fitted linewidths remain within a physically plausible range.\n",
    "\n",
    "If the initial parameters are far from the true values, or if the data is very noisy, or if basis spectra are highly correlated, the optimization might result in parameters that are at the boundaries of these constraints. This can be an indication that the fit is struggling, the model is misspecified, or that the constraints are too restrictive for the given data. Examining the raw parameters (`model.amplitudes_raw`, `model.shifts_hz_raw`, `model.linewidths_hz_raw`) can show how close the internal unconstrained parameters are to values that would saturate the sigmoid/tanh functions. If parameters are consistently at their boundaries, reconsidering the constraints or the overall model complexity might be necessary."
   ]
  },
  {
   "cell_type": "markdown",
   "metadata": {},
   "source": [
    "## 6. Conclusion\n",
    "\n",
    "This notebook demonstrated the setup and use of the `AdvancedLinearCombinationModel` for fitting simulated MRS data. Key features highlighted include:\n",
    "- Initialization with basis spectra, observed data, and various fitting parameters (initial guesses, constraints).\n",
    "- The `fit` method for optimizing model parameters using PyTorch's gradient-based optimizers.\n",
    "- Getter methods to retrieve constrained, interpretable fitted parameters for amplitudes, frequency shifts, linewidths, and baseline coefficients.\n",
    "- Visualization of the fitting results, including the overall fit, residuals, fitted baseline, and individual metabolite components.\n",
    "\n",
    "This advanced model provides a flexible framework for MRS quantification where non-linear parameters like frequency shifts and linewidth changes are important, and where constraints are necessary to guide the optimization towards physiologically plausible solutions. The use of PyTorch allows for leveraging automatic differentiation and GPU acceleration for more complex modeling tasks in the future."
   ]
  }
 ],
 "metadata": {
  "kernelspec": {
   "display_name": "Python 3",
   "language": "python",
   "name": "python3"
  },
  "language_info": {
   "codemirror_mode": {
    "name": "ipython",
    "version": 3
   },
   "file_extension": ".py",
   "mimetype": "text/x-python",
   "name": "python",
   "nbconvert_exporter": "python",
   "pygments_lexer": "ipython3",
   "version": "3.10.12" 
  }
 },
 "nbformat": 4,
 "nbformat_minor": 5
}
