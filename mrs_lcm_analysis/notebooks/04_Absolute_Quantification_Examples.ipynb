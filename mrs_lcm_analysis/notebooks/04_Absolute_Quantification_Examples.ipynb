{
 "cells": [
  {
   "cell_type": "markdown",
   "metadata": {},
   "source": [
    "# 04. End-to-End MRS Analysis: Fitting and Absolute Quantification\n",
    "\n",
    "This notebook demonstrates an end-to-end workflow for Magnetic Resonance Spectroscopy (MRS) data analysis. We will first use the `AdvancedLinearCombinationModel` to fit simulated MRS data and estimate metabolite amplitudes along with other spectral parameters like frequency shifts and linewidth broadenings. Subsequently, we will use the `AbsoluteQuantifier` class to calculate the absolute concentrations of these metabolites, taking into account relaxation effects, tissue corrections, and water referencing."
   ]
  },
  {
   "cell_type": "markdown",
   "metadata": {},
   "source": [
    "## Setup\n",
    "\n",
    "Import necessary libraries and modules. This includes PyTorch for numerical operations, Matplotlib for plotting, and our custom `AdvancedLinearCombinationModel` and `AbsoluteQuantifier` classes from the `lcm_library`."
   ]
  },
  {
   "cell_type": "code",
   "execution_count": null,
   "metadata": {},
   "outputs": [],
   "source": [
    "import torch\n",
    "import numpy as np\n",
    "import matplotlib.pyplot as plt\n",
    "import os\n",
    "import sys\n",
    "import warnings # To manage warnings if needed\n",
    "\n",
    "# Setup sys.path to find the lcm_library\n",
    "module_path = os.path.abspath(os.path.join('..'))\n",
    "if module_path not in sys.path:\n",
    "    sys.path.append(module_path)\n",
    "    print(f\"Added {module_path} to sys.path\")\n",
    "else:\n",
    "    print(f\"{module_path} already in sys.path\")\n",
    "\n",
    "from lcm_library.advanced_model import AdvancedLinearCombinationModel\n",
    "from lcm_library.quantification import AbsoluteQuantifier\n",
    "\n",
    "%matplotlib inline\n",
    "\n",
    "device = 'cuda' if torch.cuda.is_available() else 'cpu'\n",
    "print(f\"Using device: {device}\")"
   ]
  },
  {
   "cell_type": "markdown",
   "metadata": {},
   "source": [
    "## Phase 1: Data Simulation and Preparation\n",
    "\n",
    "We'll start by simulating MRS data. This includes defining ideal basis spectra for a few metabolites and then creating an observed spectrum by combining these basis spectra with known amplitudes, frequency shifts, linewidth changes, a baseline, and noise. This simulated data will serve as the input for our fitting model."
   ]
  },
  {
   "cell_type": "markdown",
   "metadata": {},
   "source": [
    "### 1.1. Define Simulation Parameters"
   ]
  },
  {
   "cell_type": "code",
   "execution_count": null,
   "metadata": {},
   "outputs": [],
   "source": [
    "NUM_POINTS = 1024       # Number of points in the spectrum\n",
    "SW_HZ = 2000.0          # Spectral width in Hz\n",
    "F0_MHZ = 123.25         # Spectrometer frequency in MHz (for 3T Proton)\n",
    "DT_S = 1.0 / SW_HZ      # Dwell time in seconds\n",
    "\n",
    "METABOLITE_NAMES_SIM = ['NAA', 'Cr', 'Cho'] # Example metabolites\n",
    "NUM_METABOLITES_SIM = len(METABOLITE_NAMES_SIM)\n",
    "\n",
    "# True parameters for simulation (ground truth for fitting)\n",
    "TRUE_AMPLITUDES_SIM = np.array([12.0, 9.0, 5.0])\n",
    "TRUE_SHIFTS_HZ_SIM = np.array([-1.0, 0.5, 1.0])  # Hz shift from basis spectrum position\n",
    "TRUE_LW_HZ_ADDITIONAL_SIM = np.array([1.0, 1.5, 0.7]) # Additional Lorentzian broadening in Hz\n",
    "TRUE_BASELINE_COEFFS_SIM = np.array([10.0, -4.0, 2.0]) # Coefficients for a 2nd degree polynomial\n",
    "\n",
    "print(f\"Dwell time (dt): {DT_S*1000:.2f} ms\")"
   ]
  },
  {
   "cell_type": "markdown",
   "metadata": {},
   "source": [
    "### 1.2. Simulate Ideal Basis Spectra\n",
    "\n",
    "These are the 'pure' metabolite spectra that the `AdvancedLinearCombinationModel` will use. We simulate them as simple Lorentzian peaks. They are assumed to be perfectly known (no inherent shift or broadening beyond their defined lineshape here) and are fftshifted."
   ]
  },
  {
   "cell_type": "code",
   "execution_count": null,
   "metadata": {},
   "outputs": [],
   "source": [
    "def create_lorentzian_peak_freq_domain(num_points, dt_s, peak_center_hz_offset, amplitude, lw_hz):\n",
    "    \"\"\"Creates a frequency-domain Lorentzian peak, fftshifted and complex.\"\"\"\n",
    "    time_axis = np.arange(0, num_points) * dt_s\n",
    "    fid = amplitude * np.exp(1j * 2 * np.pi * peak_center_hz_offset * time_axis) * np.exp(-time_axis * np.pi * lw_hz)\n",
    "    spectrum_shifted = np.fft.fftshift(np.fft.fft(fid))\n",
    "    return spectrum_shifted.astype(np.complex64)\n",
    "\n",
    "basis_spectra_list_sim = []\n",
    "basis_peak_hz_offsets_sim = [-300.0, -100.0, 50.0] # Distinct frequencies for NAA, Cr, Cho bases\n",
    "basis_inherent_lw_hz_sim = 2.0 # Base linewidth for all basis spectra\n",
    "\n",
    "for i in range(NUM_METABOLITES_SIM):\n",
    "    peak = create_lorentzian_peak_freq_domain(NUM_POINTS, DT_S, \n",
    "                                              basis_peak_hz_offsets_sim[i], \n",
    "                                              1.0, # Basis spectra are normalized to amplitude 1\n",
    "                                              basis_inherent_lw_hz_sim)\n",
    "    basis_spectra_list_sim.append(peak)\n",
    "\n",
    "basis_spectra_tensor_true = torch.tensor(np.array(basis_spectra_list_sim).T, dtype=torch.complex64).to(device)\n",
    "print(f\"Shape of true basis_spectra_tensor: {basis_spectra_tensor_true.shape}\")\n",
    "\n",
    "hz_axis_full_range_sim = np.linspace(-SW_HZ / 2, SW_HZ / 2 - SW_HZ/NUM_POINTS, NUM_POINTS)\n",
    "ppm_axis_plot_sim = (hz_axis_full_range_sim / F0_MHZ)[::-1] # Reversed for typical MRS display\n",
    "\n",
    "plt.figure(figsize=(10,4))\n",
    "for i in range(NUM_METABOLITES_SIM):\n",
    "    plt.plot(ppm_axis_plot_sim, basis_spectra_tensor_true[:, i].real.cpu(), label=METABOLITE_NAMES_SIM[i])\n",
    "plt.title(f\"Ideal Basis Spectra (Real Part)\")\n",
    "plt.xlabel(f\"Chemical Shift (ppm, relative to {F0_MHZ} MHz as 0 ppm)\")\n",
    "plt.ylabel(\"Intensity\")\n",
    "plt.xlim(max(ppm_axis_plot_sim), min(ppm_axis_plot_sim)) \n",
    "plt.legend()\n",
    "plt.grid(True, alpha=0.5)\n",
    "plt.show()"
   ]
  },
  {
   "cell_type": "markdown",
   "metadata": {},
   "source": [
    "### 1.3. Simulate Observed MRS Spectrum\n",
    "\n",
    "The observed spectrum is generated by applying the true amplitudes, shifts, and additional linewidths to the ideal basis spectra. A polynomial baseline and random noise are also added."
   ]
  },
  {
   "cell_type": "code",
   "execution_count": null,
   "metadata": {},
   "outputs": [],
   "source": [
    "time_axis_torch_sim = torch.arange(0, NUM_POINTS * DT_S, DT_S, device=device, dtype=torch.float32)\n",
    "final_metabolite_sum_complex_sim = torch.zeros(NUM_POINTS, dtype=torch.complex64, device=device)\n",
    "\n",
    "# Convert basis to time domain for modifications\n",
    "basis_spectra_time_domain_sim = torch.fft.ifft(torch.fft.ifftshift(basis_spectra_tensor_true, dim=0), dim=0)\n",
    "\n",
    "for i in range(NUM_METABOLITES_SIM):\n",
    "    basis_time = basis_spectra_time_domain_sim[:, i]\n",
    "    decay = torch.exp(-time_axis_torch_sim * np.pi * TRUE_LW_HZ_ADDITIONAL_SIM[i])\n",
    "    broadened_time = basis_time * decay\n",
    "    phase_ramp = torch.exp(1j * 2 * np.pi * TRUE_SHIFTS_HZ_SIM[i] * time_axis_torch_sim)\n",
    "    shifted_broadened_time = broadened_time * phase_ramp\n",
    "    # Convert back to frequency domain and fftshift\n",
    "    modified_freq_shifted = torch.fft.fftshift(torch.fft.fft(shifted_broadened_time), dim=0)\n",
    "    final_metabolite_sum_complex_sim += TRUE_AMPLITUDES_SIM[i] * modified_freq_shifted\n",
    "\n",
    "# Simulate baseline\n",
    "norm_freq_axis_sim = torch.linspace(-1, 1, NUM_POINTS, device=device, dtype=torch.float32)\n",
    "baseline_signal_sim = torch.zeros_like(norm_freq_axis_sim)\n",
    "for d_idx, coeff in enumerate(TRUE_BASELINE_COEFFS_SIM):\n",
    "    baseline_signal_sim += coeff * (norm_freq_axis_sim ** d_idx)\n",
    "\n",
    "observed_spectrum_no_noise_complex_sim = final_metabolite_sum_complex_sim + baseline_signal_sim\n",
    "observed_spectrum_no_noise_real_sim = observed_spectrum_no_noise_complex_sim.real\n",
    "\n",
    "# Add noise\n",
    "noise_std_sim = 1.0 \n",
    "noise_sim = torch.normal(0, noise_std_sim, size=(NUM_POINTS,), device=device, dtype=torch.float32)\n",
    "observed_spectrum_tensor = observed_spectrum_no_noise_real_sim + noise_sim\n",
    "\n",
    "print(f\"Shape of observed_spectrum_tensor: {observed_spectrum_tensor.shape}\")\n",
    "\n",
    "plt.figure(figsize=(10,4))\n",
    "plt.plot(ppm_axis_plot_sim, observed_spectrum_tensor.cpu().numpy(), label=\"Simulated Observed Spectrum (with noise)\")\n",
    "plt.plot(ppm_axis_plot_sim, observed_spectrum_no_noise_real_sim.cpu().numpy(), label=\"Ground Truth (No Noise)\", linestyle='--')\n",
    "plt.title(\"Simulated Observed MRS Spectrum\")\n",
    "plt.xlabel(f\"Chemical Shift (ppm, relative to {F0_MHZ} MHz as 0 ppm)\")\n",
    "plt.ylabel(\"Intensity\")\n",
    "plt.xlim(max(ppm_axis_plot_sim), min(ppm_axis_plot_sim))\n",
    "plt.legend()\n",
    "plt.grid(True, alpha=0.5)\n",
    "plt.show()"
   ]
  },
  {
   "cell_type": "markdown",
   "metadata": {},
   "source": [
    "### 1.4. Define Fitting Mask\n",
    "\n",
    "We define a mask to specify the spectral region for fitting (e.g., 0.2 to 4.2 ppm)."
   ]
  },
  {
   "cell_type": "code",
   "execution_count": null,
   "metadata": {},
   "outputs": [],
   "source": [
    "ppm_min_fit_sim = 0.2 \n",
    "ppm_max_fit_sim = 4.2 \n",
    "\n",
    "fitting_mask_numpy_sim = (ppm_axis_plot_sim <= ppm_max_fit_sim) & (ppm_axis_plot_sim >= ppm_min_fit_sim)\n",
    "fitting_mask_tensor = torch.tensor(fitting_mask_numpy_sim, dtype=torch.bool, device=device)\n",
    "\n",
    "print(f\"Fitting mask covers {fitting_mask_tensor.sum().item()} points between {ppm_min_fit_sim:.2f} and {ppm_max_fit_sim:.2f} ppm.\")\n",
    "\n",
    "plt.figure(figsize=(10,2))\n",
    "masked_spectrum_visualization_sim = torch.zeros_like(observed_spectrum_tensor)\n",
    "masked_spectrum_visualization_sim[fitting_mask_tensor] = observed_spectrum_tensor[fitting_mask_tensor]\n",
    "plt.plot(ppm_axis_plot_sim, masked_spectrum_visualization_sim.cpu().numpy(), label=\"Fitting Region Active\")\n",
    "plt.plot(ppm_axis_plot_sim, observed_spectrum_tensor.cpu().numpy(), label=\"Observed Spectrum\", alpha=0.3)\n",
    "plt.title(\"Selected Fitting Region\")\n",
    "plt.xlabel(f\"Chemical Shift (ppm, relative to {F0_MHZ} MHz as 0 ppm)\")\n",
    "plt.yticks([])\n",
    "plt.xlim(max(ppm_axis_plot_sim), min(ppm_axis_plot_sim))\n",
    "plt.legend()\n",
    "plt.show()"
   ]
  },
  {
   "cell_type": "markdown",
   "metadata": {},
   "source": [
    "## Phase 2: Fitting with `AdvancedLinearCombinationModel`\n",
    "\n",
    "Now we instantiate and use the `AdvancedLinearCombinationModel` to fit the simulated spectrum. We provide initial guesses for the parameters and define constraints for the fitting process."
   ]
  },
  {
   "cell_type": "code",
   "execution_count": null,
   "metadata": {},
   "outputs": [],
   "source": [
    "initial_params_guess_fit = {\n",
    "    METABOLITE_NAMES_SIM[0]: {'amp': 10.0, 'shift_hz': 0.0, 'lw_hz': 0.8},\n",
    "    METABOLITE_NAMES_SIM[1]: {'amp': 7.0, 'shift_hz': 0.0, 'lw_hz': 1.2},\n",
    "    METABOLITE_NAMES_SIM[2]: {'amp': 4.0, 'shift_hz': 0.0, 'lw_hz': 0.5},\n",
    "    'baseline': {'coeff0': 0.0, 'coeff1': 0.0, 'coeff2': 0.0} \n",
    "}\n",
    "\n",
    "constraints_fit = {\n",
    "    'max_shift_hz': 3.0,      # Max allowable absolute shift in Hz \n",
    "    'min_lw_hz': 0.2,         # Min allowable additional linewidth in Hz\n",
    "    'max_lw_hz': 6.0          # Max allowable additional linewidth in Hz\n",
    "}\n",
    "\n",
    "BASELINE_DEGREE_FIT = len(TRUE_BASELINE_COEFFS_SIM) - 1\n",
    "\n",
    "advanced_model = AdvancedLinearCombinationModel(\n",
    "    basis_spectra_tensor=basis_spectra_tensor_true, \n",
    "    metabolite_names=METABOLITE_NAMES_SIM,\n",
    "    observed_spectrum_tensor=observed_spectrum_tensor, \n",
    "    dt=DT_S,\n",
    "    fitting_mask=fitting_mask_tensor,\n",
    "    initial_params=initial_params_guess_fit,\n",
    "    constraints=constraints_fit,\n",
    "    baseline_degree=BASELINE_DEGREE_FIT,\n",
    "    device=device\n",
    ")\n",
    "\n",
    "print(\"AdvancedLinearCombinationModel instantiated.\")"
   ]
  },
  {
   "cell_type": "markdown",
   "metadata": {},
   "source": [
    "### 2.1. Run the Fitting Process"
   ]
  },
  {
   "cell_type": "code",
   "execution_count": null,
   "metadata": {},
   "outputs": [],
   "source": [
    "advanced_model.fit(num_iterations=3500, lr=0.03, optim_type='adam', print_loss_every=500, weight_decay=1e-4)"
   ]
  },
  {
   "cell_type": "markdown",
   "metadata": {},
   "source": [
    "### 2.2. Compare True vs. Fitted Parameters"
   ]
  },
  {
   "cell_type": "code",
   "execution_count": null,
   "metadata": {},
   "outputs": [],
   "source": [
    "fitted_metabolite_amplitudes = advanced_model.get_fitted_amplitudes()\n",
    "fitted_shifts = advanced_model.get_fitted_shifts_hz()\n",
    "fitted_lws = advanced_model.get_fitted_linewidths_hz()\n",
    "fitted_bl_coeffs = advanced_model.get_fitted_baseline_coeffs()\n",
    "\n",
    "print(\"--- Parameter Comparison ---\")\n",
    "print(\"\\nMetabolite Amplitudes:\")\n",
    "for i, name in enumerate(METABOLITE_NAMES_SIM):\n",
    "    print(f\"  {name}: True = {TRUE_AMPLITUDES_SIM[i]:.2f}, Fitted = {fitted_metabolite_amplitudes.get(name, 0.0):.2f}\")\n",
    "\n",
    "print(\"\\nFrequency Shifts (Hz):\")\n",
    "for i, name in enumerate(METABOLITE_NAMES_SIM):\n",
    "    print(f\"  {name}: True = {TRUE_SHIFTS_HZ_SIM[i]:.2f}, Fitted = {fitted_shifts.get(name, 0.0):.2f}\")\n",
    "\n",
    "print(\"\\nAdditional Linewidths (Hz):\")\n",
    "for i, name in enumerate(METABOLITE_NAMES_SIM):\n",
    "    print(f\"  {name}: True Additional = {TRUE_LW_HZ_ADDITIONAL_SIM[i]:.2f}, Fitted Additional = {fitted_lws.get(name, 0.0):.2f}\")\n",
    "\n",
    "if fitted_bl_coeffs is not None:\n",
    "    print(\"\\nBaseline Coefficients:\")\n",
    "    for i in range(len(fitted_bl_coeffs)):\n",
    "        true_coeff_val = TRUE_BASELINE_COEFFS_SIM[i] if i < len(TRUE_BASELINE_COEFFS_SIM) else 'N/A (degree mismatch)'\n",
    "        print(f\"  Coeff {i}: True = {true_coeff_val if isinstance(true_coeff_val, str) else f'{true_coeff_val:.2f}'}, Fitted = {fitted_bl_coeffs[i]:.2f}\")"
   ]
  },
  {
   "cell_type": "markdown",
   "metadata": {},
   "source": [
    "### 2.3. Visualization of Fit"
   ]
  },
  {
   "cell_type": "code",
   "execution_count": null,
   "metadata": {},
   "outputs": [],
   "source": [
    "with torch.no_grad():\n",
    "    full_model_spectrum_tensor_fit = advanced_model.get_full_model_spectrum(real_part=True)\n",
    "    \n",
    "    fitted_baseline_signal_fit = torch.zeros(advanced_model.num_points, device=advanced_model.device)\n",
    "    if advanced_model.baseline_coeffs_raw is not None and hasattr(advanced_model, 'baseline_poly_terms'):\n",
    "        fitted_baseline_signal_fit = advanced_model.baseline_poly_terms @ advanced_model.baseline_coeffs_raw.detach()\n",
    "        \n",
    "    fitted_params_transformed = advanced_model.get_transformed_parameters()\n",
    "    amps_transformed = fitted_params_transformed['amplitudes']\n",
    "    shifts_transformed = fitted_params_transformed['shifts_hz']\n",
    "    lws_transformed = fitted_params_transformed['linewidths_hz']\n",
    "    \n",
    "    basis_time_transformed = torch.fft.ifft(torch.fft.ifftshift(advanced_model.basis_spectra_freq_shifted, dim=0), dim=0)\n",
    "    time_axis_expanded = advanced_model.time_axis.unsqueeze(1)\n",
    "    individual_metab_components_freq_list_fit = []\n",
    "    for i in range(advanced_model.num_metabolites):\n",
    "        metab_time = basis_time_transformed[:, i]\n",
    "        decay_transformed = torch.exp(-time_axis_expanded[:,0] * np.pi * lws_transformed[i])\n",
    "        phase_ramp_transformed = torch.exp(1j * 2 * np.pi * shifts_transformed[i] * time_axis_expanded[:,0])\n",
    "        modified_metab_time = metab_time * decay_transformed * phase_ramp_transformed\n",
    "        modified_metab_freq_shifted = torch.fft.fftshift(torch.fft.fft(modified_metab_time), dim=0)\n",
    "        individual_metab_components_freq_list_fit.append(amps_transformed[i] * modified_metab_freq_shifted.real) \n",
    "\n",
    "plt.figure(figsize=(12, 9))\n",
    "\n",
    "plt.subplot(3,1,1)\n",
    "plt.plot(ppm_axis_plot_sim, observed_spectrum_tensor.cpu().numpy(), label=\"Observed Spectrum\", alpha=0.7)\n",
    "plt.plot(ppm_axis_plot_sim, full_model_spectrum_tensor_fit.cpu().numpy(), label=\"Full Model Fit\", color='red')\n",
    "plt.plot(ppm_axis_plot_sim, fitted_baseline_signal_fit.cpu().numpy(), label=\"Fitted Baseline\", color='green', linestyle=':')\n",
    "plt.title(\"Observed Spectrum vs. Full Model Fit and Baseline\")\n",
    "plt.xlabel(f\"Chemical Shift (ppm, relative to {F0_MHZ} MHz as 0 ppm)\")\n",
    "plt.ylabel(\"Intensity\")\n",
    "plt.xlim(max(ppm_axis_plot_sim), min(ppm_axis_plot_sim))\n",
    "plt.legend()\n",
    "plt.grid(True, alpha=0.4)\n",
    "\n",
    "residuals_fit = observed_spectrum_tensor.cpu().numpy() - full_model_spectrum_tensor_fit.cpu().numpy()\n",
    "plt.subplot(3,1,2)\n",
    "plt.plot(ppm_axis_plot_sim, residuals_fit, label=\"Residual (Observed - Model)\", color='blue')\n",
    "plt.title(\"Residuals\")\n",
    "plt.xlabel(f\"Chemical Shift (ppm, relative to {F0_MHZ} MHz as 0 ppm)\")\n",
    "plt.ylabel(\"Intensity\")\n",
    "plt.xlim(max(ppm_axis_plot_sim), min(ppm_axis_plot_sim))\n",
    "plt.legend()\n",
    "plt.grid(True, alpha=0.4)\n",
    "\n",
    "plt.subplot(3,1,3)\n",
    "data_minus_baseline_fit = observed_spectrum_tensor.cpu().numpy() - fitted_baseline_signal_fit.cpu().numpy()\n",
    "plt.plot(ppm_axis_plot_sim, data_minus_baseline_fit, label=\"Data - Est. Baseline\", color='lightgray', alpha=0.9)\n",
    "sum_fitted_metabs_fit = torch.zeros_like(individual_metab_components_freq_list_fit[0])\n",
    "for i, name in enumerate(METABOLITE_NAMES_SIM):\n",
    "    if i < len(individual_metab_components_freq_list_fit):\n",
    "        component_to_plot = individual_metab_components_freq_list_fit[i].cpu().numpy()\n",
    "        sum_fitted_metabs_fit += individual_metab_components_freq_list_fit[i]\n",
    "        plt.plot(ppm_axis_plot_sim, component_to_plot, label=f\"Fitted {name}\", linestyle='--')\n",
    "plt.plot(ppm_axis_plot_sim, sum_fitted_metabs_fit.cpu().numpy(), label=\"Sum of Fitted Metabolites\", color='purple', linestyle='-')\n",
    "plt.title(\"Fitted Metabolite Components vs. Data (Baseline Subtracted)\")\n",
    "plt.xlabel(f\"Chemical Shift (ppm, relative to {F0_MHZ} MHz as 0 ppm)\")\n",
    "plt.ylabel(\"Intensity\")\n",
    "plt.xlim(max(ppm_axis_plot_sim), min(ppm_axis_plot_sim))\n",
    "plt.legend(fontsize='small')\n",
    "plt.grid(True, alpha=0.4)\n",
    "\n",
    "plt.tight_layout()\n",
    "plt.show()"
   ]
  },
  {
   "cell_type": "markdown",
   "metadata": {},
   "source": [
    "## Phase 3: Absolute Quantification with `AbsoluteQuantifier`\n",
    "\n",
    "With the metabolite amplitudes estimated from the fitting phase, we now proceed to calculate their absolute concentrations. This requires additional information such as water signal amplitude, proton counts for each metabolite, sequence parameters (TE, TR), relaxation times, and optionally, tissue fractions for correction."
   ]
  },
  {
   "cell_type": "markdown",
   "metadata": {},
   "source": [
    "### 3.1. Gather Inputs for `AbsoluteQuantifier`"
   ]
  },
  {
   "cell_type": "code",
   "execution_count": null,
   "metadata": {},
   "outputs": [],
   "source": [
    "# Use fitted metabolite amplitudes from Phase 2\n",
    "metabolite_amplitudes_for_quant = fitted_metabolite_amplitudes\n",
    "print(f\"Metabolite amplitudes for quantification: {metabolite_amplitudes_for_quant}\")\n",
    "\n",
    "# Simulate or define a placeholder water amplitude\n",
    "# In a real scenario, this would be measured from an unsuppressed water reference scan\n",
    "simulated_water_amplitude = 8000.0 \n",
    "print(f\"Simulated water amplitude: {simulated_water_amplitude}\")\n",
    "\n",
    "# Define proton counts for each metabolite (known biochemical constants)\n",
    "proton_counts_metabolites = {\n",
    "    'NAA': 3,  # N-acetyl aspartate (CH3)\n",
    "    'Cr': 3,   # Creatine (CH3)\n",
    "    'Cho': 9   # Choline (N(CH3)3)\n",
    "}\n",
    "print(f\"Proton counts: {proton_counts_metabolites}\")\n",
    "\n",
    "# Define sequence parameters (example values)\n",
    "te_ms_quant = 30.0  # Echo Time in ms\n",
    "tr_ms_quant = 2000.0 # Repetition Time in ms\n",
    "print(f\"TE: {te_ms_quant} ms, TR: {tr_ms_quant} ms\")\n",
    "\n",
    "# Define relaxation times (T1 and T2 in ms) for water and metabolites\n",
    "# These are literature values and can vary based on field strength, tissue type, etc.\n",
    "relaxation_times_quant = {\n",
    "    'water': {'T1_ms': 1200.0, 'T2_ms': 80.0}, # Example for brain tissue water at 3T\n",
    "    'NAA': {'T1_ms': 1400.0, 'T2_ms': 200.0},\n",
    "    'Cr': {'T1_ms': 1000.0, 'T2_ms': 150.0},\n",
    "    'Cho': {'T1_ms': 1100.0, 'T2_ms': 180.0}\n",
    "    # Add other metabolites if they are in your basis set and you have their T1/T2\n",
    "}\n",
    "print(f\"Relaxation times (ms): {relaxation_times_quant}\")\n",
    "\n",
    "# Define tissue fractions for voxel composition (optional, but recommended for accuracy)\n",
    "tissue_fractions_quant = {'gm': 0.7, 'wm': 0.2, 'csf': 0.1} # Grey Matter, White Matter, CSF\n",
    "print(f\"Tissue fractions: {tissue_fractions_quant}\")\n",
    "\n",
    "# Define tissue-specific water content (fractions, 0-1)\n",
    "water_conc_tissue_specific_fractions_quant = {'gm': 0.82, 'wm': 0.70, 'csf': 0.99}\n",
    "print(f\"Water content by tissue type: {water_conc_tissue_specific_fractions_quant}\")\n",
    "\n",
    "# Note: default_water_conc_tissue_mM (default: 35880.0 mM) and default_protons_water (default: 2)\n",
    "# from AbsoluteQuantifier will be used unless specified otherwise during instantiation."
   ]
  },
  {
   "cell_type": "markdown",
   "metadata": {},
   "source": [
    "### 3.2. Instantiate `AbsoluteQuantifier` and Calculate Concentrations"
   ]
  },
  {
   "cell_type": "code",
   "execution_count": null,
   "metadata": {},
   "outputs": [],
   "source": [
    "quantifier = AbsoluteQuantifier() # Using default water concentration and proton count\n",
    "\n",
    "absolute_concentrations, warnings_list = quantifier.calculate_concentrations(\n",
    "    metabolite_amplitudes=metabolite_amplitudes_for_quant,\n",
    "    water_amplitude=simulated_water_amplitude,\n",
    "    proton_counts_metabolites=proton_counts_metabolites,\n",
    "    te_ms=te_ms_quant,\n",
    "    tr_ms=tr_ms_quant,\n",
    "    relaxation_times=relaxation_times_quant,\n",
    "    tissue_fractions=tissue_fractions_quant,\n",
    "    water_conc_tissue_specific_fractions=water_conc_tissue_specific_fractions_quant\n",
    ")"
   ]
  },
  {
   "cell_type": "markdown",
   "metadata": {},
   "source": [
    "### 3.3. Display Quantification Results"
   ]
  },
  {
   "cell_type": "code",
   "execution_count": null,
   "metadata": {},
   "outputs": [],
   "source": [
    "print(\"--- Absolute Quantification Results ---\")\n",
    "if absolute_concentrations:\n",
    "    for metab, conc in absolute_concentrations.items():\n",
    "        print(f\"  {metab}: {conc:.2f} mM\")\n",
    "else:\n",
    "    print(\"  No concentrations calculated or an error occurred.\")\n",
    "\n",
    "print(\"\\n--- Warnings from Quantification ---\")\n",
    "if warnings_list:\n",
    "    for warning in warnings_list:\n",
    "        print(f\"  - {warning}\")\n",
    "else:\n",
    "    print(\"  No warnings generated.\")\n",
    "\n",
    "print(\"\\nDiscussion of Results:\")\n",
    "print(\"The concentrations above are estimates of the absolute amount of each metabolite in millimolar (mM) units. \")\n",
    "print(\"These values are corrected for T1 and T2 relaxation effects, the number of protons contributing to each signal,\")\n",
    "print(\"the water reference signal, and the partial volume effects based on tissue fractions and their water content.\")\n",
    "print(\"The accuracy of these values depends on the quality of the MRS data, the fitting process, the accuracy of the water reference, \")\n",
    "print(\"and the correctness of the input parameters like relaxation times and tissue compositions.\")"
   ]
  },
  {
   "cell_type": "markdown",
   "metadata": {},
   "source": [
    "## Conclusion\n",
    "\n",
    "This notebook has demonstrated a comprehensive pipeline for MRS data analysis:\n",
    "1. **Data Simulation:** We created realistic MRS data with known characteristics.\n",
    "2. **Spectral Fitting:** We used `AdvancedLinearCombinationModel` to fit the data, estimating metabolite amplitudes, frequency shifts, and linewidths, along with a baseline.\n",
    "3. **Absolute Quantification:** We then took the fitted amplitudes and, using `AbsoluteQuantifier`, converted them into absolute concentrations (mM). This step involved providing crucial parameters such as water reference amplitude, proton counts, sequence timings (TE, TR), relaxation times, and tissue composition details.\n",
    "\n",
    "By combining these two main components, `AdvancedLinearCombinationModel` for robust spectral fitting and `AbsoluteQuantifier` for detailed concentration calculations, users can perform an end-to-end analysis of MRS data. This workflow allows for the extraction of meaningful biochemical information from complex MRS signals, while accounting for various physical and physiological factors that influence the observed spectra."
   ]
  }
 ],
 "metadata": {
  "kernelspec": {
   "display_name": "Python 3",
   "language": "python",
   "name": "python3"
  },
  "language_info": {
   "codemirror_mode": {
    "name": "ipython",
    "version": 3
   },
   "file_extension": ".py",
   "mimetype": "text/x-python",
   "name": "python",
   "nbconvert_exporter": "python",
   "pygments_lexer": "ipython3",
   "version": "3.10.12"
  }
 },
 "nbformat": 4,
 "nbformat_minor": 5
}
